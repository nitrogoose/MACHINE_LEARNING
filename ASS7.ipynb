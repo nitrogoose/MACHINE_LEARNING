{
  "nbformat": 4,
  "nbformat_minor": 0,
  "metadata": {
    "colab": {
      "provenance": [],
      "authorship_tag": "ABX9TyMo0T3HODc4VgMUkgmn0X4e",
      "include_colab_link": true
    },
    "kernelspec": {
      "name": "python3",
      "display_name": "Python 3"
    },
    "language_info": {
      "name": "python"
    }
  },
  "cells": [
    {
      "cell_type": "markdown",
      "metadata": {
        "id": "view-in-github",
        "colab_type": "text"
      },
      "source": [
        "<a href=\"https://colab.research.google.com/github/nitrogoose/MACHINE_LEARNING/blob/main/ASS7.ipynb\" target=\"_parent\"><img src=\"https://colab.research.google.com/assets/colab-badge.svg\" alt=\"Open In Colab\"/></a>"
      ]
    },
    {
      "cell_type": "code",
      "execution_count": null,
      "metadata": {
        "id": "VrL3ylBPYYyD"
      },
      "outputs": [],
      "source": [
        "import pandas as pd\n",
        "import numpy as np\n",
        "from sklearn.preprocessing import StandardScaler\n",
        "from sklearn.cluster import KMeans\n",
        "from sklearn.metrics import silhouette_score\n",
        "import matplotlib.pyplot as plt\n",
        "\n",
        "file_path = '/content/USA_House_Price.csv'\n",
        "data = pd.read_csv(file_path)\n",
        "\n",
        "data = data.iloc[:, :-1]\n",
        "\n",
        "scaler = StandardScaler()\n",
        "data_scaled = scaler.fit_transform(data)\n",
        "\n",
        "sse = []\n",
        "k_range = range(1, 11)\n",
        "for k in k_range:\n",
        "    kmeans = KMeans(n_clusters=k, random_state=42)\n",
        "    kmeans.fit(data_scaled)\n",
        "    sse.append(kmeans.inertia_)\n",
        "\n",
        "plt.figure(figsize=(8, 5))\n",
        "plt.plot(k_range, sse, marker='o')\n",
        "plt.title(\"Elbow Method for Optimal K (K-Means)\")\n",
        "plt.xlabel(\"Number of clusters (K)\")\n",
        "plt.ylabel(\"Sum of Squared Errors (SSE)\")\n",
        "plt.show()\n",
        "\n",
        "optimal_k = 3\n",
        "kmeans = KMeans(n_clusters=optimal_k, random_state=42)\n",
        "kmeans.fit(data_scaled)\n",
        "labels_kmeans = kmeans.labels_\n",
        "\n",
        "print(\"Silhouette Score for K-Means:\", silhouette_score(data_scaled, labels_kmeans))\n",
        "\n",
        "from sklearn_extra.cluster import KMedoids\n",
        "\n",
        "sse_kmedoids = []\n",
        "for k in k_range:\n",
        "    kmedoids = KMedoids(n_clusters=k, random_state=42, method='pam')\n",
        "    kmedoids.fit(data_scaled)\n",
        "    sse_kmedoids.append(kmedoids.inertia_)\n",
        "\n",
        "plt.figure(figsize=(8, 5))\n",
        "plt.plot(k_range, sse_kmedoids, marker='o', color='orange')\n",
        "plt.title(\"Elbow Method for Optimal K (K-Medoids)\")\n",
        "plt.xlabel(\"Number of clusters (K)\")\n",
        "plt.ylabel(\"Sum of Squared Errors (SSE)\")\n",
        "plt.show()\n",
        "\n",
        "kmedoids = KMedoids(n_clusters=optimal_k, random_state=42, method='pam')\n",
        "kmedoids.fit(data_scaled)\n",
        "labels_kmedoids = kmedoids.labels_\n",
        "\n",
        "print(\"Silhouette Score for K-Medoids:\", silhouette_score(data_scaled, labels_kmedoids))\n"
      ]
    }
  ]
}