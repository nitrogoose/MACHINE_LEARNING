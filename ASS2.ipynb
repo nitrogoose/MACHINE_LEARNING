{
  "nbformat": 4,
  "nbformat_minor": 0,
  "metadata": {
    "colab": {
      "provenance": [],
      "authorship_tag": "ABX9TyPhZQL4gNZURVOELVZr8VLz",
      "include_colab_link": true
    },
    "kernelspec": {
      "name": "python3",
      "display_name": "Python 3"
    },
    "language_info": {
      "name": "python"
    }
  },
  "cells": [
    {
      "cell_type": "markdown",
      "metadata": {
        "id": "view-in-github",
        "colab_type": "text"
      },
      "source": [
        "<a href=\"https://colab.research.google.com/github/nitrogoose/MACHINE_LEARNING/blob/main/ASS2.ipynb\" target=\"_parent\"><img src=\"https://colab.research.google.com/assets/colab-badge.svg\" alt=\"Open In Colab\"/></a>"
      ]
    },
    {
      "cell_type": "code",
      "execution_count": null,
      "metadata": {
        "id": "Rp4MoJjPV-0g"
      },
      "outputs": [],
      "source": [
        "import pandas as pd\n",
        "import numpy as np\n",
        "from sklearn.preprocessing import MinMaxScaler, StandardScaler, OneHotEncoder\n",
        "from sklearn.metrics.pairwise import cosine_similarity\n",
        "from scipy.spatial.distance import jaccard\n",
        "from scipy.stats import pearsonr\n",
        "\n",
        "file_path = '/content/AdventureWorksCustomerData.csv'\n",
        "data = pd.read_csv(file_path)\n",
        "\n",
        "print(\"Dataset Head:\\n\", data.head())\n",
        "print(\"\\nDataset Info:\\n\", data.info())\n",
        "\n",
        "selected_columns = [\n",
        "    'Age', 'Gender', 'Education', 'Marital Status',\n",
        "    'Yearly Income', 'Commute Distance', 'Bike Buyer'\n",
        "]\n",
        "df_selected = data[selected_columns]\n",
        "\n",
        "print(\"\\nSelected Features:\\n\", df_selected.head())\n",
        "\n",
        "df_selected.fillna(df_selected.mean(numeric_only=True), inplace=True)\n",
        "df_selected.fillna(\"Unknown\", inplace=True)\n",
        "\n",
        "scaler = MinMaxScaler()\n",
        "numeric_columns = ['Age', 'Yearly Income']\n",
        "df_selected[numeric_columns] = scaler.fit_transform(df_selected[numeric_columns])\n",
        "\n",
        "df_selected['Age_binned'] = pd.cut(\n",
        "    df_selected['Age'], bins=5, labels=['Very Young', 'Young', 'Middle-aged', 'Senior', 'Very Senior']\n",
        ")\n",
        "\n",
        "standard_scaler = StandardScaler()\n",
        "df_selected['Yearly Income (Standardized)'] = standard_scaler.fit_transform(\n",
        "    df_selected[['Yearly Income']]\n",
        ")\n",
        "\n",
        "encoder = OneHotEncoder(sparse=False, drop='first')\n",
        "categorical_columns = ['Gender', 'Education', 'Marital Status', 'Commute Distance']\n",
        "encoded = pd.DataFrame(\n",
        "    encoder.fit_transform(df_selected[categorical_columns]),\n",
        "    columns=encoder.get_feature_names_out(categorical_columns)\n",
        ")\n",
        "df_final = pd.concat([df_selected, encoded], axis=1)\n",
        "df_final.drop(columns=categorical_columns, inplace=True)\n",
        "\n",
        "print(\"\\nTransformed Dataset:\\n\", df_final.head())\n",
        "\n",
        "df_similarity = df_final.copy()\n",
        "row_1 = df_similarity.iloc[0].values.reshape(1, -1)\n",
        "row_2 = df_similarity.iloc[1].values.reshape(1, -1)\n",
        "cosine_sim = cosine_similarity(row_1, row_2)[0][0]\n",
        "jaccard_sim = 1 - jaccard(row_1, row_2)\n",
        "\n",
        "correlation, p_value = pearsonr(data['Yearly Income'], data['Commute Distance'])\n",
        "\n",
        "print(\"\\nCosine Similarity:\", cosine_sim)\n",
        "print(\"\\nJaccard Similarity:\", jaccard_sim)\n",
        "print(\"\\nPearson Correlation (Yearly Income vs Commute Distance):\", correlation)\n"
      ]
    }
  ]
}